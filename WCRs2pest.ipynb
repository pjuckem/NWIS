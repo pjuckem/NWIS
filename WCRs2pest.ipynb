{
 "metadata": {
  "name": "",
  "signature": "sha256:4e98ab433381d5498d59ceb3b1b4fcaefe4fa5f7ab64161e247971cac517c0aa"
 },
 "nbformat": 3,
 "nbformat_minor": 0,
 "worksheets": [
  {
   "cells": [
    {
     "cell_type": "heading",
     "level": 1,
     "metadata": {},
     "source": [
      "A script to process a shapefile of WCRs that were exported from the WI WCR CD. Output is a set of mod2obs and pest files\n",
      "with weights for each well in the shapefile."
     ]
    },
    {
     "cell_type": "code",
     "collapsed": false,
     "input": [
      "import pandas as pd\n",
      "import geopandas as gpd\n",
      "import numpy as np\n",
      "from shapely.geometry import Point\n",
      "import flopy\n",
      "import os\n",
      "import arcpy\n",
      "import sys\n",
      "import matplotlib.pyplot as plt\n",
      "\n",
      "%matplotlib inline\n",
      "\n",
      "if sys.platform == 'darwin' or 'nix' in sys.platform:\n",
      "    newline = '\\r\\n'\n",
      "else:\n",
      "    newline = '\\n'"
     ],
     "language": "python",
     "metadata": {},
     "outputs": []
    },
    {
     "cell_type": "code",
     "collapsed": false,
     "input": [
      "# Output files\n",
      "outpath = 'D:/PFJData2/Projects/NAQWA/Cycle3/FWP/MODFLOW/PESTsetup/'\n",
      "outshape = 'D:/PFJData2/Projects/NAQWA/Cycle3/FWP/ARC/PEST/targets/WCR_targets.shp'"
     ],
     "language": "python",
     "metadata": {},
     "outputs": []
    },
    {
     "cell_type": "code",
     "collapsed": false,
     "input": [
      "# Input files\n",
      "wcr_shp = 'D:/PFJData2/Projects/NAQWA/Cycle3/FWP/ARC/PEST/head/FWPhucs_WCRs.shp'\n",
      "\n",
      "prj='D:/ARC/UTM83Z16FT.prj'\n",
      "mfpath = 'D:/PFJData2/Projects/NAQWA/Cycle3/Modeling/fwp2/2_input/A_modflow'\n",
      "mfnam = os.path.join(mfpath, 'FWP1L_uniformall.nam')\n",
      "# MFdis = os.path.join(mfpath, 'general/FWP1L_SFR_BR_adj.dis')  # pull this out of the nam file instead\n",
      "origin = '826111.706, 15791723.564'  # origin or lower left of model grid in world coordinates of the model (UTM-ft)\n",
      "uprleft = '916863.802, 16717285.046'"
     ],
     "language": "python",
     "metadata": {},
     "outputs": []
    },
    {
     "cell_type": "code",
     "collapsed": false,
     "input": [
      "# MOD2OBS input:  *.spc and *.fig exported from GWvistas.  Need to update for multi-layer models.\n",
      "driverfile = 'mod2obs_FWPwcrs.in'\n",
      "bore_coords_file = 'FWPwcrs_bore_coords.crd'\n",
      "bore_list_file = 'FWPwcrs_bore_list.crd'\n",
      "well_sample_file = 'FWP_wcrs.smp'\n",
      "hds_file = 'FWP1L_uniformall.hds'\n",
      "insfile = 'FWP_wcrs.ins'\n",
      "pest_head_obs_sect_file = 'FWP_pst_wcrs.dat'\n",
      "spc_file = 'FWPvert.spc'\n",
      "flow_or_trans = 'f'\n",
      "inactive_thresh = 1.0e+30\n",
      "time_units = 'd'\n",
      "nlay = 1\n",
      "extrapolation_limit = 1.0e+10\n",
      "output_file = 'FWP_uniformall_wcrs.smp'\n",
      "ss_arbitrary_date = '12/20/2012'\n",
      "ss_arbitrary_time = '12:00:00'"
     ],
     "language": "python",
     "metadata": {},
     "outputs": []
    },
    {
     "cell_type": "code",
     "collapsed": false,
     "input": [
      "# Settings\n",
      "glac_only = True\n",
      "nlayg = 1\n",
      "\n",
      "# misc variables\n",
      "driverfile = os.path.join(outpath, driverfile)\n",
      "bore_coords_file = os.path.join(outpath, bore_coords_file)\n",
      "bore_list_file = os.path.join(outpath, bore_list_file)\n",
      "well_sample_file = os.path.join(outpath, well_sample_file)\n",
      "hds_file = os.path.join(outpath, hds_file)\n",
      "insfile = os.path.join(outpath, insfile)\n",
      "pest_head_obs_sect_file = os.path.join(outpath, pest_head_obs_sect_file)\n",
      "spc_file = os.path.join(outpath, spc_file)\n",
      "output_file = os.path.join(outpath, output_file)"
     ],
     "language": "python",
     "metadata": {},
     "outputs": []
    },
    {
     "cell_type": "heading",
     "level": 2,
     "metadata": {},
     "source": [
      "Read-in shapefile and process the data"
     ]
    },
    {
     "cell_type": "code",
     "collapsed": false,
     "input": [
      "wcr = gpd.read_file(wcr_shp)\n",
      "nstartwells = wcr.shape[0]\n",
      "wcr.columns"
     ],
     "language": "python",
     "metadata": {},
     "outputs": []
    },
    {
     "cell_type": "code",
     "collapsed": false,
     "input": [
      "# Convert columns to floats\n",
      "wcr['LS_ELEV_FT'] = wcr['LS_ELEV_FT'].astype(float)\n",
      "wcr['GW_ELEV_FT'] = wcr['GW_ELEV_FT'].astype(float)\n",
      "wcr['W_DEPTH'] = wcr['W_DEPTH'].astype(float)\n",
      "wcr['C_DEPTH_AD'] = wcr['C_DEPTH_AD'].astype(float)"
     ],
     "language": "python",
     "metadata": {},
     "outputs": []
    },
    {
     "cell_type": "markdown",
     "metadata": {},
     "source": [
      "### Bin data into target groups and estimates of elevation accuracy based on the method for estimating the location.\n",
      "\n",
      "Dictionaries are based on WDNR Information Management Policy, Standards and Proceedures Handbook, 1998; and \n",
      "prior experience with how locational accuracy transfers to topographical accuracy in eastern WI."
     ]
    },
    {
     "cell_type": "code",
     "collapsed": false,
     "input": [
      "\n",
      "grp_dict = {'GPS001':'Excellent', 'GPS002':'Excellent', 'GPS003':'Vgood', 'GPS004':'Vgood', \n",
      "            'GPS005':'Good', 'GPS006':'Good', 'GPS007':'Fair', 'GPS008':'Fair', 'GPS009':'Good', \n",
      "            'GPS010':'Good', 'GPS011':'Fair', 'SCR001':'Good', 'SCR002':'Fair', 'SCR003':'Good', \n",
      "            'SCR004':'Good', 'TAB001':'Good'}\n",
      "ele_acy_dict = {'GPS001':0.1, 'GPS002':0.2, 'GPS003':1, 'GPS004':2, 'GPS005':4, 'GPS006':6, \n",
      "                'GPS007':10, 'GPS008':10, 'GPS009':4, 'GPS010':6, 'GPS011':1, 'SCR001':5, \n",
      "                'SCR002':10, 'SCR003':6, 'SCR004':10, 'TAB001':8}\n",
      "exp_wl_acy = 5  # expect water level accuracy of +/- 5 ft for single msmt from a naturally transient system."
     ],
     "language": "python",
     "metadata": {},
     "outputs": []
    },
    {
     "cell_type": "code",
     "collapsed": false,
     "input": [
      "# Break-down the dictionaries into dataframe fields and use to populate weights.\n",
      "wcr['group'] = wcr['LL_METHOD'].copy()\n",
      "wcr['ele_acy'] = wcr['LL_METHOD'].copy()\n",
      "wcr['exp_wl_acy'] = exp_wl_acy\n",
      "wcr = wcr.replace({'group':grp_dict}).copy()\n",
      "wcr = wcr.replace({'ele_acy':ele_acy_dict}).copy()"
     ],
     "language": "python",
     "metadata": {},
     "outputs": []
    },
    {
     "cell_type": "markdown",
     "metadata": {},
     "source": [
      "**Compute weight** as a function of the elevation accuracy (or error) and an expectation of the water \n",
      "level error.  The water level error for WCRs was specified as +/- 5ft, meaning that I'm \"95% confident \n",
      "that the 1 measurement (at time of drilling) represents the 'true' long-term average level to within 5ft.\"\n",
      "\n",
      "The final weight is the composit of the elevation accuracy and the water level accuracy."
     ]
    },
    {
     "cell_type": "code",
     "collapsed": false,
     "input": [
      "wcr['weight'] = 1/(np.sqrt((wcr.ele_acy / 1.96)**2 + (wcr.exp_wl_acy / 1.96)**2))"
     ],
     "language": "python",
     "metadata": {},
     "outputs": []
    },
    {
     "cell_type": "code",
     "collapsed": false,
     "input": [
      "print \"Truncating names to 10-spaces for PEST\"\n",
      "labels = []\n",
      "names = wcr['WUWN'].tolist()\n",
      "for name in names:\n",
      "    last = name.split('/')[-1]\n",
      "    try:\n",
      "        last[10]  # if longer than 10 characters, truncate\n",
      "        last = last[-10:]\n",
      "    except:\n",
      "        pass\n",
      "    last = last.strip()\n",
      "    labels.append(last)\n",
      "wcr.loc[:,'labels'] = labels"
     ],
     "language": "python",
     "metadata": {},
     "outputs": []
    },
    {
     "cell_type": "code",
     "collapsed": false,
     "input": [
      "print \"     Checking for duplicate names and fixing them\"\n",
      "wcr['dup'] = wcr.duplicated(subset='labels')\n",
      "dups = wcr.copy()[wcr['dup'] == True]\n",
      "n = dups['dup'].count()\n",
      "while n > 0:\n",
      "    newlabels = []\n",
      "    names = dups['labels'].tolist()\n",
      "    for i, name in enumerate(names):\n",
      "        last = name[-7:]  # take the last 7 characters\n",
      "        last = str(i+1) + '_' + last  # add an index\n",
      "        newlabels.append(last)\n",
      "    dups.loc[:,'labels'] = newlabels\n",
      "    wcr.loc[:,'newlabels'] = dups.loc[:,'labels']\n",
      "    wcr['labels'] = np.where(wcr.loc[:, 'newlabels'].isnull(), wcr['labels'], wcr['newlabels'])\n",
      "    wcr['dup'] = wcr.duplicated(subset='labels')\n",
      "    dups = wcr.copy()[wcr['dup'] == True]\n",
      "    n = dups['dup'].count()\n",
      "    wcr = wcr.drop(['newlabels'], axis=1)\n",
      "\n",
      "print \"Removing spaces from all names.\"\n",
      "wcr['labels'] = wcr['labels'].str.replace(' ', '_')"
     ],
     "language": "python",
     "metadata": {},
     "outputs": []
    },
    {
     "cell_type": "markdown",
     "metadata": {},
     "source": [
      "**Assign Layers** using the DIS file and the center of the open interval of the well.  Can't assign targets\n",
      "to multiple layers with mod2obs, nor would I want to.  Interpolation accross layers suggests that head-gradient\n",
      "across layers is adequately discretized.  In many cases, this would not be problematic because D-F approximations\n",
      "would hold (and gradient would be minimal...thus not worth the effort).  Where gradient is steep, and arguably worth\n",
      "the effort, we'd need sufficient vertical discretization.  That's seldom the case, and hasn't been evaluated for FWP."
     ]
    },
    {
     "cell_type": "code",
     "collapsed": false,
     "input": [
      "print \"assigning targets to layers\"\n",
      "m = flopy.modflow.Modflow(model_ws=mfpath)\n",
      "nf = flopy.utils.mfreadnam.parsenamefile(os.path.join(mfpath, mfnam), {})\n",
      "disunit = flopy.utils.mfreadnam.getfiletypeunit(nf, 'dis')\n",
      "MFdis = nf[disunit].filename\n",
      "dis = flopy.modflow.ModflowDis.load(MFdis, m, nf)\n",
      "tops = np.zeros((dis.nrow, dis.ncol))\n",
      "tops[:, :] = dis.top.array\n",
      "bots = np.zeros((dis.nlay, dis.nrow, dis.ncol))\n",
      "bots[:, :, :] = dis.botm.array\n",
      "nrow = dis.nrow\n",
      "ncol = dis.ncol"
     ],
     "language": "python",
     "metadata": {},
     "outputs": []
    },
    {
     "cell_type": "code",
     "collapsed": false,
     "input": [
      "# Functions from: http://stackoverflow.com/questions/2827393/angles-between-two-n-dimensional-vectors-in-python\n",
      "def unit_vector(vector):\n",
      "    \"\"\" Returns the unit vector of the vector.  \"\"\"\n",
      "    return vector / np.linalg.norm(vector)\n",
      "\n",
      "def angle_between(v1, v2):\n",
      "    \"\"\" Returns the angle in radians between vectors 'v1' and 'v2':\n",
      "            >> angle_between((1, 0, 0), (0, 1, 0))\n",
      "            1.5707963267948966\n",
      "            >> angle_between((1, 0, 0), (1, 0, 0))\n",
      "            0.0\n",
      "            >> angle_between((1, 0, 0), (-1, 0, 0))\n",
      "            3.141592653589793\n",
      "    \"\"\"\n",
      "    v1_u = unit_vector(v1)\n",
      "    v2_u = unit_vector(v2)\n",
      "    angle = np.arccos(np.dot(v1_u, v2_u))\n",
      "    if np.isnan(angle):\n",
      "        if (v1_u == v2_u).all():\n",
      "            return 0.0\n",
      "        else:\n",
      "            return np.pi\n",
      "    return angle\n",
      "\n",
      "def angle(orig, point1, point2, unit='deg'):\n",
      "    \"\"\"  Input is 2 or 3 x,y coordinate pairs supplied as arrays. \"\"\"\n",
      "    v1 = point1 - orig\n",
      "    v2 = point2 - orig\n",
      "    rad_angle = np.array([angle_between(v1, v2)])\n",
      "    if unit == 'deg':\n",
      "        deg_angle = np.degrees(rad_angle)\n",
      "        return deg_angle\n",
      "    elif unit == 'rad':\n",
      "        return rad_angle\n",
      "    else:\n",
      "        print 'Error.  Please specify \"deg\" for degrees or \"rad\" for radians'\n",
      "\n",
      "def xy2np(string):\n",
      "    \"\"\"\n",
      "    Convert a string of x and y into a numpy array vector of x & y\n",
      "    \"\"\"\n",
      "    x,y = string.split(',')\n",
      "    x = float(x)\n",
      "    y = float(y)\n",
      "    xy = np.array([x, y])\n",
      "    return xy\n",
      "\n",
      "def calc_angle(str_orig, string1, string2=None, unit='deg'):\n",
      "    \"\"\"\n",
      "    Wrap-up all of the above into a one-liner.\n",
      "    If string2 is not provided, assume point2 is on y-axis and desired angle is from pos y-axis (from north).\n",
      "    \"\"\"\n",
      "    orig = xy2np(str_orig)\n",
      "    point1 = xy2np(string1)\n",
      "    if string2:\n",
      "        point2 = xy2np(string2)\n",
      "    else:\n",
      "        point2 = orig + np.array([0,10])\n",
      "    arr_angle = angle(orig, point1, point2, unit)\n",
      "    return arr_angle # return array"
     ],
     "language": "python",
     "metadata": {},
     "outputs": []
    },
    {
     "cell_type": "code",
     "collapsed": false,
     "input": [
      "rad_angle = calc_angle(origin, uprleft, unit='rad')  # radian_angle from true north\n",
      "geom = wcr['geometry'].tolist()\n",
      "x_orig = float(origin.split(',')[0])\n",
      "y_orig = float(origin.split(',')[1])\n",
      "xcoords = [geom[i].x for i,j in enumerate(geom)]\n",
      "ycoords = [geom[i].y for i,j in enumerate(geom)]\n",
      "#  compute row,col indexes for a rotated grid\n",
      "wellcolsidx = [int(np.floor((x - x_orig - (np.tan(rad_angle) * (ycoords[i] - y_orig)))/(1000.0 / np.cos(rad_angle)))) for i, x in enumerate(xcoords)]  # columns are 1000ft\n",
      "wellrowsidx = [nrow-1 - int(np.floor((y - y_orig + (np.tan(rad_angle) * (xcoords[i] - x_orig)))/(1000.0 / np.cos(rad_angle)))) for i, y in enumerate(ycoords)]"
     ],
     "language": "python",
     "metadata": {},
     "outputs": []
    },
    {
     "cell_type": "code",
     "collapsed": false,
     "input": [
      "# Use the center of the well to designate layer assignments for each well.\n",
      "wcr['scr_center'] = wcr['W_DEPTH'] - wcr['C_DEPTH_AD']\n",
      "wcr['scr_elev'] = wcr['LS_ELEV_FT'] - wcr['scr_center']\n",
      "wellelev = np.array(wcr['scr_elev'].tolist())"
     ],
     "language": "python",
     "metadata": {},
     "outputs": []
    },
    {
     "cell_type": "code",
     "collapsed": false,
     "input": [
      "layer = np.full_like(wellelev, -999)  # -999 error flag\n",
      "topatwells = np.array([tops[i,j] for i,j in zip(wellrowsidx, wellcolsidx)])\n",
      "for k in range(bots.shape[0]):\n",
      "    layKbotatwells = np.array([bots[k,i,j] for i,j in zip(wellrowsidx, wellcolsidx)])\n",
      "    layer = np.where(wellelev >= layKbotatwells, k+1, layer)  # designate the lowest layer the target can be in\n",
      "    layer = np.where(wellelev > topatwells, 999, layer)  # a flag if the well bot is above LS -- what's going on?\n",
      "minval = layer.min()\n",
      "if minval < 0:\n",
      "    print \"At least one target has a well center below the bottom of the model.  They will be removed as targets\"\n",
      "maxval = layer.max()\n",
      "if maxval >= 999.0:\n",
      "    layer = np.where(layer >= 999.0, 1, layer)\n",
      "    print \"At least one target has a well center above the model top.  They have been assigned to layer 1.\"\n",
      "\n",
      "wcr['layer'] = layer\n",
      "wcr['x'] = xcoords\n",
      "wcr['y'] = ycoords\n",
      "wcr['date'] = ss_arbitrary_date\n",
      "wcr['time'] = ss_arbitrary_time\n",
      "wcr['target'] = wcr['GW_ELEV_FT']\n",
      "wcr = wcr[(wcr['layer'] != -999)]  # removing wells below the model bottom\n",
      "if glac_only:\n",
      "    print \"Purging wells below the glacial model layers.\"\n",
      "    wcr = wcr[(wcr['layer'] < nlayg+1)] # remove wells below the glacial layers.  +1 b/c used above."
     ],
     "language": "python",
     "metadata": {},
     "outputs": []
    },
    {
     "cell_type": "heading",
     "level": 3,
     "metadata": {},
     "source": [
      "Write mod2obs files"
     ]
    },
    {
     "cell_type": "code",
     "collapsed": false,
     "input": [
      "# Format for Mod2Obs, including unique 10-digit IDs\n",
      "# Setup for mod2obs1; could use regular mod2obs if remove \"a\" values from ofp.write, below.\n",
      "ofp = open(driverfile, 'w')\n",
      "ofp.write('{1}{0}{2}{0}{3}{0}{4}{0}a{0}{5}{0}\\\n",
      "{6}{0}{7:<10.2e}{0}{8}{0}{9}{0}{10}{0}\\\n",
      "{11}{0}{12:<10.2e}{0}{13}{0}a{0}'.format(newline,\n",
      "                                 spc_file,\n",
      "                                 bore_coords_file,\n",
      "                                 bore_list_file,\n",
      "                                 well_sample_file,\n",
      "                                 hds_file,\n",
      "                                 flow_or_trans,\n",
      "                                 inactive_thresh,\n",
      "                                 time_units,\n",
      "                                 ss_arbitrary_date,\n",
      "                                 ss_arbitrary_time,\n",
      "                                 nlay,\n",
      "                                 extrapolation_limit,\n",
      "                                 output_file))\n",
      "ofp.close()\n",
      "\n",
      "wcr.to_csv(bore_coords_file, columns=[u'labels', u'x', u'y', u'layer'], sep=' ', index='', header='')\n",
      "wcr.to_csv(bore_list_file, columns=[u'labels'], sep=' ', index='', header='')\n",
      "wcr.to_csv(well_sample_file, columns=[u'labels', u'date', u'time', u'target'],\n",
      "            sep=' ', float_format='%.3f', index='', header='')\n",
      "# make ins file\n",
      "names_upper = [i.upper() for i in list(wcr['labels'])]\n",
      "wcr['Name'] = names_upper\n",
      "wcr['w'] = 'w'\n",
      "wcr['hashname'] = '#' + wcr['Name'] + '#'\n",
      "wcr['bangname'] = '!' + wcr['Name'] + '!'\n",
      "## write the ins file\n",
      "open(insfile, 'w').write('pif #\\n')\n",
      "with open(insfile, 'a') as file:\n",
      "    wcr.to_csv(file, columns=[u'hashname',u'w',u'w',u'w',u'bangname'],\n",
      "                  sep=' ', index='', header='')\n",
      "# make pst file parts\n",
      "wcr.to_csv(pest_head_obs_sect_file, columns=[u'Name',u'target',u'weight',u'group'],\n",
      "                  sep=' ', float_format='%.3f', index='', header='', line_terminator=newline)\n",
      "print '\\nSuccessful completion.  Mod2Obs files are located here:\\n' \\\n",
      "      '{}'.format(outpath)"
     ],
     "language": "python",
     "metadata": {},
     "outputs": []
    },
    {
     "cell_type": "heading",
     "level": 3,
     "metadata": {},
     "source": [
      "Generate shapefile and graph of weights"
     ]
    },
    {
     "cell_type": "markdown",
     "metadata": {},
     "source": [
      "Note: weights were **NOT** reduced by declustering.  Evaluation shows that WCRs are more randomly distributed\n",
      "    than NWIS wells, which were often collected as part of a study.  Moreover, WCRs have lower weight than NWIS\n",
      "    wells (b/c only 1 msmt, thus lower WL_accuracy), so reducing their weight isn't justified."
     ]
    },
    {
     "cell_type": "code",
     "collapsed": false,
     "input": [
      "wcr = wcr.drop(['dup', 'date', 'time', 'w', 'hashname', 'bangname'], axis=1)\n",
      "print '\\nA shapefile of the final targets is located here:\\n' \\\n",
      "      '{}'.format(outshape)\n",
      "wcr.to_file(outshape)"
     ],
     "language": "python",
     "metadata": {},
     "outputs": []
    },
    {
     "cell_type": "code",
     "collapsed": false,
     "input": [
      "print 'Total number of initial WCR wells read from shapefile:  {}'.format(nstartwells)\n",
      "print 'Total number of final WCR target wells:  {}'.format(wcr.shape[0])"
     ],
     "language": "python",
     "metadata": {},
     "outputs": []
    },
    {
     "cell_type": "code",
     "collapsed": false,
     "input": [
      "wcr.hist(column=['weight'])"
     ],
     "language": "python",
     "metadata": {},
     "outputs": []
    }
   ],
   "metadata": {}
  }
 ]
}